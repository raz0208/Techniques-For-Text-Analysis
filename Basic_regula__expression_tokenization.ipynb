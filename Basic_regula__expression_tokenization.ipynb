{
  "nbformat": 4,
  "nbformat_minor": 0,
  "metadata": {
    "colab": {
      "provenance": [],
      "authorship_tag": "ABX9TyNDWFctbUH8dzrnI8nkIM8F",
      "include_colab_link": true
    },
    "kernelspec": {
      "name": "python3",
      "display_name": "Python 3"
    },
    "language_info": {
      "name": "python"
    }
  },
  "cells": [
    {
      "cell_type": "markdown",
      "metadata": {
        "id": "view-in-github",
        "colab_type": "text"
      },
      "source": [
        "<a href=\"https://colab.research.google.com/github/raz0208/Techniques-For-Text-Analysis/blob/main/Basic_regula__expression_tokenization.ipynb\" target=\"_parent\"><img src=\"https://colab.research.google.com/assets/colab-badge.svg\" alt=\"Open In Colab\"/></a>"
      ]
    },
    {
      "cell_type": "code",
      "execution_count": 1,
      "metadata": {
        "id": "quQNGKVQOWPv"
      },
      "outputs": [],
      "source": [
        "### Excersice one:\n",
        "# Basic regular expression tokenization in the NLTK Python-based natural language processing toolkit\n",
        "\n",
        "import nltk\n",
        "from nltk.tokenize import regexp_tokenize"
      ]
    },
    {
      "cell_type": "code",
      "source": [
        "text = 'That U.S.A. poster-print costs $12.40...'\n",
        "\n",
        "pattern = r'''(?x) # set flag to allow verbose regexps\n",
        "(?:[A-Z]\\.)+        # abbreviations, e.g. U.S.A.\n",
        "| \\w+(?:-\\w+)*      # words with optional internal hyphens\n",
        "| \\$?\\d+(?:\\.\\d+)?%? # currency, percentages, e.g. $12.40, 82%\n",
        "| \\.\\.\\.            # ellipsis\n",
        "| [][.,;\"'?():_`-]  # these are separate tokens; includes ], [\n",
        "'''\n",
        "\n",
        "print(nltk.regexp_tokenize(text, pattern))"
      ],
      "metadata": {
        "colab": {
          "base_uri": "https://localhost:8080/"
        },
        "id": "IFc5ZjVSzaVw",
        "outputId": "113c3b26-7781-4eec-e4d4-316be16ec1ce"
      },
      "execution_count": 2,
      "outputs": [
        {
          "output_type": "stream",
          "name": "stdout",
          "text": [
            "['That', 'U.S.A.', 'poster-print', 'costs', '$12.40', '...']\n"
          ]
        }
      ]
    },
    {
      "cell_type": "code",
      "source": [
        "text1 = 'The San Francisco-based restaurant,\" they said, \"doesn’t charge $10\".'\n",
        "\n",
        "pattern = r'''(?x)\n",
        "(?:[A-Z\\.])+\n",
        "| \\w+(?:-\\w+)*\n",
        "| \\$?\\d+(?:\\.\\d+)?%?\n",
        "| \\.\\.\\.\n",
        "| [][.,;\"'?():_`-]\n",
        "'''\n",
        "\n",
        "print(nltk.regexp_tokenize(text1, pattern))"
      ],
      "metadata": {
        "colab": {
          "base_uri": "https://localhost:8080/"
        },
        "id": "kl_7YauGzqV4",
        "outputId": "6c4453df-c114-45fd-cbd3-e58ec587c882"
      },
      "execution_count": 6,
      "outputs": [
        {
          "output_type": "stream",
          "name": "stdout",
          "text": [
            "['T', 'he', 'S', 'an', 'F', 'rancisco-based', 'restaurant', ',', '\"', 'they', 'said', ',', '\"', 'doesn', 't', 'charge', '$10', '\"', '.']\n"
          ]
        }
      ]
    }
  ]
}