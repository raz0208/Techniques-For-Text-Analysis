{
  "nbformat": 4,
  "nbformat_minor": 0,
  "metadata": {
    "colab": {
      "provenance": [],
      "authorship_tag": "ABX9TyMRcNKlfeXnpBV9Vo6RDs9c",
      "include_colab_link": true
    },
    "kernelspec": {
      "name": "python3",
      "display_name": "Python 3"
    },
    "language_info": {
      "name": "python"
    }
  },
  "cells": [
    {
      "cell_type": "markdown",
      "metadata": {
        "id": "view-in-github",
        "colab_type": "text"
      },
      "source": [
        "<a href=\"https://colab.research.google.com/github/raz0208/Techniques-For-Text-Analysis/blob/main/CosineSimilarity_tf_idf_BoW.ipynb\" target=\"_parent\"><img src=\"https://colab.research.google.com/assets/colab-badge.svg\" alt=\"Open In Colab\"/></a>"
      ]
    },
    {
      "cell_type": "markdown",
      "source": [
        "## Cosine similarity\n",
        "Cosine similarity is a measure of how similar two vectors are, regardless of their magnitude — it’s based on the angle between them in a multi-dimensional space. It’s commonly used in applications like natural language processing, information retrieval, and computer vision.\n",
        "\n",
        "Mathematically, cosine similarity between two vectors A and B is defined as:\n",
        "$$ Cosine Similarity (A,B)=\\frac{A⋅B​}{∥A∥∥B∥} $$\n",
        "\n",
        "Where:\n",
        "- A⋅B is the dot product of the vectors.\n",
        "- ∥A∥ and ∥B∥ are the magnitudes (Euclidean norms) of the vectors.\n",
        "\n",
        "The result ranges from −1 to 1:\n",
        "\n",
        "- 1 means the vectors are identical in direction.\n",
        "- 0 means the vectors are perpendicular and share no similarity.\n",
        "- −1 means the vectors point in completely opposite directions."
      ],
      "metadata": {
        "id": "Q3zYMgSNZwBG"
      }
    },
    {
      "cell_type": "markdown",
      "source": [
        "### Step 1: Import libraries and read data"
      ],
      "metadata": {
        "id": "fowPOXHNaJRd"
      }
    },
    {
      "cell_type": "code",
      "execution_count": 1,
      "metadata": {
        "id": "ic3oxG7rZtz7"
      },
      "outputs": [],
      "source": [
        "# Import required libraries\n",
        "import numpy as np\n",
        "from sklearn.feature_extraction.text import CountVectorizer, TfidfVectorizer\n",
        "from sklearn.metrics.pairwise import cosine_similarity"
      ]
    },
    {
      "cell_type": "code",
      "source": [
        "# Read Data\n",
        "documents = [\n",
        "    \"The pedestrian detection model performs well on the validation set.\",\n",
        "    \"Pedestrian detection is a key task in computer vision projects.\",\n",
        "    \"The SSD model is trained on the CityPersons dataset for pedestrian detection.\"\n",
        "]\n",
        "\n",
        "documents"
      ],
      "metadata": {
        "colab": {
          "base_uri": "https://localhost:8080/"
        },
        "id": "O8WuxXnKaSI1",
        "outputId": "44853b46-0919-4e2d-8b7a-bd8504809a9f"
      },
      "execution_count": 6,
      "outputs": [
        {
          "output_type": "execute_result",
          "data": {
            "text/plain": [
              "['The pedestrian detection model performs well on the validation set.',\n",
              " 'Pedestrian detection is a key task in computer vision projects.',\n",
              " 'The SSD model is trained on the CityPersons dataset for pedestrian detection.']"
            ]
          },
          "metadata": {},
          "execution_count": 6
        }
      ]
    },
    {
      "cell_type": "markdown",
      "source": [
        "Step 2: Preprocess Text"
      ],
      "metadata": {
        "id": "n3xu_hRIaa81"
      }
    },
    {
      "cell_type": "code",
      "source": [
        "# Lowercasing and removing punctuation\n",
        "clean_texts = [text.lower() for text in documents]\n",
        "\n",
        "clean_texts"
      ],
      "metadata": {
        "colab": {
          "base_uri": "https://localhost:8080/"
        },
        "id": "ploA0JkaaYf9",
        "outputId": "b7b1c733-909e-413e-8684-0e33a2e5d5f6"
      },
      "execution_count": 7,
      "outputs": [
        {
          "output_type": "execute_result",
          "data": {
            "text/plain": [
              "['the pedestrian detection model performs well on the validation set.',\n",
              " 'pedestrian detection is a key task in computer vision projects.',\n",
              " 'the ssd model is trained on the citypersons dataset for pedestrian detection.']"
            ]
          },
          "metadata": {},
          "execution_count": 7
        }
      ]
    },
    {
      "cell_type": "markdown",
      "source": [
        "### Step 3: Convert Text into Vectors\n",
        "- TF-IDF\n",
        "- Bag of Words (BoW)"
      ],
      "metadata": {
        "id": "ILyav-bhbUGs"
      }
    },
    {
      "cell_type": "code",
      "source": [
        "# Convert Text to Vectors using Bag of Words (BOW)\n",
        "vectorizer_bow = CountVectorizer()\n",
        "X_bow = vectorizer_bow.fit_transform(clean_texts)\n",
        "\n",
        "print(X_bow, \"\\n\")\n",
        "\n",
        "# Convert Text to Vectors using TF-IDF\n",
        "vectorizer_tfidf = TfidfVectorizer()\n",
        "X_tfidf = vectorizer_tfidf.fit_transform(clean_texts)\n",
        "\n",
        "print(X_tfidf)"
      ],
      "metadata": {
        "colab": {
          "base_uri": "https://localhost:8080/"
        },
        "id": "LFrNHCVJbR7l",
        "outputId": "62359374-ef50-4dfb-da6f-915d2e6f2c40"
      },
      "execution_count": 9,
      "outputs": [
        {
          "output_type": "stream",
          "name": "stdout",
          "text": [
            "  (0, 16)\t2\n",
            "  (0, 10)\t1\n",
            "  (0, 3)\t1\n",
            "  (0, 8)\t1\n",
            "  (0, 11)\t1\n",
            "  (0, 20)\t1\n",
            "  (0, 9)\t1\n",
            "  (0, 18)\t1\n",
            "  (0, 13)\t1\n",
            "  (1, 10)\t1\n",
            "  (1, 3)\t1\n",
            "  (1, 6)\t1\n",
            "  (1, 7)\t1\n",
            "  (1, 15)\t1\n",
            "  (1, 5)\t1\n",
            "  (1, 1)\t1\n",
            "  (1, 19)\t1\n",
            "  (1, 12)\t1\n",
            "  (2, 16)\t2\n",
            "  (2, 10)\t1\n",
            "  (2, 3)\t1\n",
            "  (2, 8)\t1\n",
            "  (2, 9)\t1\n",
            "  (2, 6)\t1\n",
            "  (2, 14)\t1\n",
            "  (2, 17)\t1\n",
            "  (2, 0)\t1\n",
            "  (2, 2)\t1\n",
            "  (2, 4)\t1 \n",
            "\n",
            "  (0, 16)\t0.5322120451441776\n",
            "  (0, 10)\t0.20665506514773163\n",
            "  (0, 3)\t0.20665506514773163\n",
            "  (0, 8)\t0.2661060225720888\n",
            "  (0, 11)\t0.34989744090331365\n",
            "  (0, 20)\t0.34989744090331365\n",
            "  (0, 9)\t0.2661060225720888\n",
            "  (0, 18)\t0.34989744090331365\n",
            "  (0, 13)\t0.34989744090331365\n",
            "  (1, 10)\t0.2189562389630259\n",
            "  (1, 3)\t0.2189562389630259\n",
            "  (1, 6)\t0.28194602356415654\n",
            "  (1, 7)\t0.37072513866625695\n",
            "  (1, 15)\t0.37072513866625695\n",
            "  (1, 5)\t0.37072513866625695\n",
            "  (1, 1)\t0.37072513866625695\n",
            "  (1, 19)\t0.37072513866625695\n",
            "  (1, 12)\t0.37072513866625695\n",
            "  (2, 16)\t0.48721503551795814\n",
            "  (2, 10)\t0.1891829691277319\n",
            "  (2, 3)\t0.1891829691277319\n",
            "  (2, 8)\t0.24360751775897907\n",
            "  (2, 9)\t0.24360751775897907\n",
            "  (2, 6)\t0.24360751775897907\n",
            "  (2, 14)\t0.3203146107885784\n",
            "  (2, 17)\t0.3203146107885784\n",
            "  (2, 0)\t0.3203146107885784\n",
            "  (2, 2)\t0.3203146107885784\n",
            "  (2, 4)\t0.3203146107885784\n"
          ]
        }
      ]
    },
    {
      "cell_type": "markdown",
      "source": [
        "### Step 4: Compute Cosine Similarity"
      ],
      "metadata": {
        "id": "SWnQkt3rcN6m"
      }
    },
    {
      "cell_type": "code",
      "source": [
        "# BOW Cosine Similarity\n",
        "cosine_sim_bow = cosine_similarity(X_bow, X_bow)\n",
        "\n",
        "print(cosine_sim_bow, \"\\n\")\n",
        "\n",
        "# TF-IDF Cosine Similarity\n",
        "cosine_sim_tfidf = cosine_similarity(X_tfidf, X_tfidf)\n",
        "\n",
        "print(cosine_sim_tfidf)"
      ],
      "metadata": {
        "colab": {
          "base_uri": "https://localhost:8080/"
        },
        "id": "5V_USYuKcLl9",
        "outputId": "2746137d-74f3-4258-80ad-dea679b54316"
      },
      "execution_count": 10,
      "outputs": [
        {
          "output_type": "stream",
          "name": "stdout",
          "text": [
            "[[1.         0.19245009 0.6172134 ]\n",
            " [0.19245009 1.         0.26726124]\n",
            " [0.6172134  0.26726124 1.        ]] \n",
            "\n",
            "[[1.         0.09049683 0.4671438 ]\n",
            " [0.09049683 1.         0.15152975]\n",
            " [0.4671438  0.15152975 1.        ]]\n"
          ]
        }
      ]
    },
    {
      "cell_type": "markdown",
      "source": [
        "### Step 5: Interpretation & Application"
      ],
      "metadata": {
        "id": "OumppiYjcdpf"
      }
    },
    {
      "cell_type": "code",
      "source": [
        "# Interpretation & Application\n",
        "print(\"Cosine Similarity (Bag of Words):\")\n",
        "print(np.round(cosine_sim_bow, 2))\n",
        "\n",
        "print(\"\\nCosine Similarity (TF-IDF):\")\n",
        "print(np.round(cosine_sim_tfidf, 2))"
      ],
      "metadata": {
        "colab": {
          "base_uri": "https://localhost:8080/"
        },
        "id": "6qQkNvdWccHt",
        "outputId": "6a9c4475-830f-41d0-89a1-a9e69d718b57"
      },
      "execution_count": 11,
      "outputs": [
        {
          "output_type": "stream",
          "name": "stdout",
          "text": [
            "Cosine Similarity (Bag of Words):\n",
            "[[1.   0.19 0.62]\n",
            " [0.19 1.   0.27]\n",
            " [0.62 0.27 1.  ]]\n",
            "\n",
            "Cosine Similarity (TF-IDF):\n",
            "[[1.   0.09 0.47]\n",
            " [0.09 1.   0.15]\n",
            " [0.47 0.15 1.  ]]\n"
          ]
        }
      ]
    }
  ]
}