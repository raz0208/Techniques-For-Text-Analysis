{
  "nbformat": 4,
  "nbformat_minor": 0,
  "metadata": {
    "colab": {
      "provenance": [],
      "authorship_tag": "ABX9TyMLJlpHXvJiNHMfZv/dTtZf",
      "include_colab_link": true
    },
    "kernelspec": {
      "name": "python3",
      "display_name": "Python 3"
    },
    "language_info": {
      "name": "python"
    }
  },
  "cells": [
    {
      "cell_type": "markdown",
      "metadata": {
        "id": "view-in-github",
        "colab_type": "text"
      },
      "source": [
        "<a href=\"https://colab.research.google.com/github/raz0208/Techniques-For-Text-Analysis/blob/main/POS%26NER_Tagging_By_Regex.ipynb\" target=\"_parent\"><img src=\"https://colab.research.google.com/assets/colab-badge.svg\" alt=\"Open In Colab\"/></a>"
      ]
    },
    {
      "cell_type": "markdown",
      "source": [
        "## POS Tagging (Part-of-Speech Tagging):\n",
        "POS tagging is the process of assigning parts of speech (like noun, verb, adjective, etc.) to each word in a sentence based on its definition and context. It helps understand the grammatical structure of the sentence.\n",
        "- Example: Sentence: \"The dog barked loudly.\"\n",
        "- POS Tags:\n",
        "      The → Determiner (DET)\n",
        "      dog → Noun (NN)\n",
        "      barked → Verb (VBD)\n",
        "      loudly → Adverb (RB)\n",
        "\n",
        "## NER Tagging (Named Entity Recognition Tagging):\n",
        "NER tagging identifies and classifies named entities in text into predefined categories like names of people, organizations, locations, dates, etc.\n",
        "- Example: Sentence: \"Apple Inc. was founded in Cupertino by Steve Jobs.\"\n",
        "- NER Tags:\n",
        "      Apple Inc. → Organization (ORG)\n",
        "      Cupertino → Location (LOC)\n",
        "      Steve Jobs → Person (PER)"
      ],
      "metadata": {
        "id": "avSAb2mfe-YK"
      }
    },
    {
      "cell_type": "markdown",
      "source": [
        "### Step 1: Import libraries and read data"
      ],
      "metadata": {
        "id": "bIUm2UZhfXXp"
      }
    },
    {
      "cell_type": "code",
      "execution_count": 4,
      "metadata": {
        "id": "5Dk2tnDhexCi"
      },
      "outputs": [],
      "source": [
        "# Import required libraries\n",
        "import re\n",
        "import nltk\n",
        "from nltk.tokenize import word_tokenize"
      ]
    },
    {
      "cell_type": "code",
      "source": [
        "nltk.download('punkt')\n",
        "nltk.download('punkt_tab')"
      ],
      "metadata": {
        "colab": {
          "base_uri": "https://localhost:8080/"
        },
        "id": "-KtFDi0LgAqY",
        "outputId": "0c3ee703-005a-4020-ff7d-06edf1335055"
      },
      "execution_count": 5,
      "outputs": [
        {
          "output_type": "stream",
          "name": "stderr",
          "text": [
            "[nltk_data] Downloading package punkt to /root/nltk_data...\n",
            "[nltk_data]   Package punkt is already up-to-date!\n",
            "[nltk_data] Downloading package punkt_tab to /root/nltk_data...\n",
            "[nltk_data]   Unzipping tokenizers/punkt_tab.zip.\n"
          ]
        },
        {
          "output_type": "execute_result",
          "data": {
            "text/plain": [
              "True"
            ]
          },
          "metadata": {},
          "execution_count": 5
        }
      ]
    },
    {
      "cell_type": "code",
      "source": [
        "# Read data\n",
        "text = \"Apple Inc. was founded in Cupertino by Steve Jobs in 1976.\"\n",
        "\n",
        "text"
      ],
      "metadata": {
        "colab": {
          "base_uri": "https://localhost:8080/",
          "height": 36
        },
        "id": "rrzLLqv3fkBQ",
        "outputId": "6ae66da3-be5f-4c5d-c23a-a43ac09aed33"
      },
      "execution_count": 6,
      "outputs": [
        {
          "output_type": "execute_result",
          "data": {
            "text/plain": [
              "'Apple Inc. was founded in Cupertino by Steve Jobs in 1976.'"
            ],
            "application/vnd.google.colaboratory.intrinsic+json": {
              "type": "string"
            }
          },
          "metadata": {},
          "execution_count": 6
        }
      ]
    },
    {
      "cell_type": "markdown",
      "source": [
        "### Step 2: Preprocess data"
      ],
      "metadata": {
        "id": "QnovyzuoftER"
      }
    },
    {
      "cell_type": "code",
      "source": [
        "# Preprocess Text\n",
        "text = text.lower().strip()\n",
        "\n",
        "print(text, \"\\n\")\n",
        "\n",
        "# Tokenization\n",
        "tokens = word_tokenize(text)\n",
        "\n",
        "print(tokens)"
      ],
      "metadata": {
        "colab": {
          "base_uri": "https://localhost:8080/"
        },
        "id": "Q023SZEEfslZ",
        "outputId": "9b3b72fc-c00d-4898-f689-3651e9be5a0d"
      },
      "execution_count": 7,
      "outputs": [
        {
          "output_type": "stream",
          "name": "stdout",
          "text": [
            "apple inc. was founded in cupertino by steve jobs in 1976. \n",
            "\n",
            "['apple', 'inc.', 'was', 'founded', 'in', 'cupertino', 'by', 'steve', 'jobs', 'in', '1976', '.']\n"
          ]
        }
      ]
    },
    {
      "cell_type": "markdown",
      "source": [
        "### Setp 3: Implement tagging methods by Regex\n",
        "- POS Tagging Using Regex Patterns\n",
        "- Named Entity Recognition (NER) Using Regex"
      ],
      "metadata": {
        "id": "iEafrakIgHF5"
      }
    },
    {
      "cell_type": "code",
      "source": [
        "# POS Tagging Using Regex Patterns\n",
        "POS_TAGS = {\n",
        "    'NN': r'\\b[a-z]+(?:tion|ment|ness|ity|ship|ence|ance)\\b',  # Nouns\n",
        "    'VB': r'\\b[a-z]+(?:ed|ing|s)\\b',                          # Verbs\n",
        "    'JJ': r'\\b[a-z]+(?:ous|ive|able|ible|al|ful)\\b'           # Adjectives\n",
        "}\n",
        "\n",
        "pos_result = []\n",
        "for word in tokens:\n",
        "    tag = 'UNK'  # Default tag for unknown words\n",
        "    for pos, pattern in POS_TAGS.items():\n",
        "        if re.fullmatch(pattern, word):\n",
        "            tag = pos\n",
        "            break\n",
        "    pos_result.append((word, tag))\n",
        "\n",
        "pos_result"
      ],
      "metadata": {
        "colab": {
          "base_uri": "https://localhost:8080/"
        },
        "id": "-5SnPmuIgGcb",
        "outputId": "ddfdd273-22db-4838-d163-d932cbe115e5"
      },
      "execution_count": 8,
      "outputs": [
        {
          "output_type": "execute_result",
          "data": {
            "text/plain": [
              "[('apple', 'UNK'),\n",
              " ('inc.', 'UNK'),\n",
              " ('was', 'VB'),\n",
              " ('founded', 'VB'),\n",
              " ('in', 'UNK'),\n",
              " ('cupertino', 'UNK'),\n",
              " ('by', 'UNK'),\n",
              " ('steve', 'UNK'),\n",
              " ('jobs', 'VB'),\n",
              " ('in', 'UNK'),\n",
              " ('1976', 'UNK'),\n",
              " ('.', 'UNK')]"
            ]
          },
          "metadata": {},
          "execution_count": 8
        }
      ]
    },
    {
      "cell_type": "code",
      "source": [
        "# NER Using Regex Patterns\n",
        "NER_TAGS = {\n",
        "    'ORG': r'\\b(?:apple|microsoft|google|inc)\\b',            # Organizations\n",
        "    'LOC': r'\\b(?:cupertino|paris|london|new york)\\b',       # Locations\n",
        "    'PER': r'\\b(?:steve jobs|elon musk|bill gates)\\b'        # Persons\n",
        "}\n",
        "\n",
        "ner_result = []\n",
        "for word in tokens:\n",
        "    entity = 'O'  # 'O' means no entity\n",
        "    for ner, pattern in NER_TAGS.items():\n",
        "        if re.fullmatch(pattern, word):\n",
        "            entity = ner\n",
        "            break\n",
        "    ner_result.append((word, entity))\n",
        "\n",
        "ner_result"
      ],
      "metadata": {
        "colab": {
          "base_uri": "https://localhost:8080/"
        },
        "id": "H9ejXD29g9vY",
        "outputId": "548eb2c2-c30a-4a15-a260-8b888827982b"
      },
      "execution_count": 9,
      "outputs": [
        {
          "output_type": "execute_result",
          "data": {
            "text/plain": [
              "[('apple', 'ORG'),\n",
              " ('inc.', 'O'),\n",
              " ('was', 'O'),\n",
              " ('founded', 'O'),\n",
              " ('in', 'O'),\n",
              " ('cupertino', 'LOC'),\n",
              " ('by', 'O'),\n",
              " ('steve', 'O'),\n",
              " ('jobs', 'O'),\n",
              " ('in', 'O'),\n",
              " ('1976', 'O'),\n",
              " ('.', 'O')]"
            ]
          },
          "metadata": {},
          "execution_count": 9
        }
      ]
    }
  ]
}