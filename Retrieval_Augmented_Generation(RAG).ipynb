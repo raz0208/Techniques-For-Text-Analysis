{
  "nbformat": 4,
  "nbformat_minor": 0,
  "metadata": {
    "colab": {
      "provenance": [],
      "authorship_tag": "ABX9TyPxz75Gw5okkWD5wyZhN3n1",
      "include_colab_link": true
    },
    "kernelspec": {
      "name": "python3",
      "display_name": "Python 3"
    },
    "language_info": {
      "name": "python"
    }
  },
  "cells": [
    {
      "cell_type": "markdown",
      "metadata": {
        "id": "view-in-github",
        "colab_type": "text"
      },
      "source": [
        "<a href=\"https://colab.research.google.com/github/raz0208/Techniques-For-Text-Analysis/blob/main/Retrieval_Augmented_Generation(RAG).ipynb\" target=\"_parent\"><img src=\"https://colab.research.google.com/assets/colab-badge.svg\" alt=\"Open In Colab\"/></a>"
      ]
    },
    {
      "cell_type": "markdown",
      "source": [
        "## Retrieval-Augmented Generation (RAG):\n"
      ],
      "metadata": {
        "id": "6ECAp5GkfMbe"
      }
    },
    {
      "cell_type": "markdown",
      "source": [
        "### Process:\n",
        "1. Import libraries\n",
        "2. Setup OpenAI API key\n",
        "3. Download and load data\n",
        "4. Split text to small chunk\n",
        "5. Load pretrained best model for embedding\n",
        "6. Convert text chunk into embedding\n",
        "7. Store chunk + embedding into Lance DB\n",
        "8. Convert user question into embedding\n",
        "9. Retrieve top 5 most relevant text chunk\n",
        "10. Format prompt with context citation\n",
        "11. Sent to GPT-4 for answering the question\n",
        "\n"
      ],
      "metadata": {
        "id": "DokL3mT7fOZc"
      }
    },
    {
      "cell_type": "markdown",
      "source": [
        "### Step 1: Import libraries\n",
        "### Step 2: Setup OpenAI API key\n",
        "### Step 3: Download and load data"
      ],
      "metadata": {
        "id": "V4w1QCwmhuoT"
      }
    },
    {
      "cell_type": "code",
      "execution_count": 1,
      "metadata": {
        "id": "Djs5PwV-fHCn",
        "outputId": "7a87a0a7-1a25-4c1d-b32e-7832678f14d4",
        "colab": {
          "base_uri": "https://localhost:8080/",
          "height": 383
        }
      },
      "outputs": [
        {
          "output_type": "error",
          "ename": "ModuleNotFoundError",
          "evalue": "No module named 'lance'",
          "traceback": [
            "\u001b[0;31m---------------------------------------------------------------------------\u001b[0m",
            "\u001b[0;31mModuleNotFoundError\u001b[0m                       Traceback (most recent call last)",
            "\u001b[0;32m<ipython-input-1-7575382c953c>\u001b[0m in \u001b[0;36m<cell line: 0>\u001b[0;34m()\u001b[0m\n\u001b[1;32m      5\u001b[0m \u001b[0;32mfrom\u001b[0m \u001b[0msklearn\u001b[0m\u001b[0;34m.\u001b[0m\u001b[0mmodel_selection\u001b[0m \u001b[0;32mimport\u001b[0m \u001b[0mtrain_test_split\u001b[0m\u001b[0;34m\u001b[0m\u001b[0;34m\u001b[0m\u001b[0m\n\u001b[1;32m      6\u001b[0m \u001b[0;32mfrom\u001b[0m \u001b[0msentence_transformers\u001b[0m \u001b[0;32mimport\u001b[0m \u001b[0mSentenceTransformer\u001b[0m\u001b[0;34m\u001b[0m\u001b[0;34m\u001b[0m\u001b[0m\n\u001b[0;32m----> 7\u001b[0;31m \u001b[0;32mfrom\u001b[0m \u001b[0mlance\u001b[0m \u001b[0;32mimport\u001b[0m \u001b[0mLanceDB\u001b[0m\u001b[0;34m\u001b[0m\u001b[0;34m\u001b[0m\u001b[0m\n\u001b[0m\u001b[1;32m      8\u001b[0m \u001b[0;32mfrom\u001b[0m \u001b[0mlangchain\u001b[0m\u001b[0;34m.\u001b[0m\u001b[0mvectorstores\u001b[0m \u001b[0;32mimport\u001b[0m \u001b[0mLanceDB\u001b[0m\u001b[0;34m\u001b[0m\u001b[0;34m\u001b[0m\u001b[0m\n\u001b[1;32m      9\u001b[0m \u001b[0;32mfrom\u001b[0m \u001b[0mlangchain\u001b[0m\u001b[0;34m.\u001b[0m\u001b[0membeddings\u001b[0m \u001b[0;32mimport\u001b[0m \u001b[0mOpenAIEmbeddings\u001b[0m\u001b[0;34m\u001b[0m\u001b[0;34m\u001b[0m\u001b[0m\n",
            "\u001b[0;31mModuleNotFoundError\u001b[0m: No module named 'lance'",
            "",
            "\u001b[0;31m---------------------------------------------------------------------------\u001b[0;32m\nNOTE: If your import is failing due to a missing package, you can\nmanually install dependencies using either !pip or !apt.\n\nTo view examples of installing some common dependencies, click the\n\"Open Examples\" button below.\n\u001b[0;31m---------------------------------------------------------------------------\u001b[0m\n"
          ],
          "errorDetails": {
            "actions": [
              {
                "action": "open_url",
                "actionText": "Open Examples",
                "url": "/notebooks/snippets/importing_libraries.ipynb"
              }
            ]
          }
        }
      ],
      "source": [
        "# Import required libraries\n",
        "import os\n",
        "import openai\n",
        "import requests\n",
        "from sklearn.model_selection import train_test_split\n",
        "from sentence_transformers import SentenceTransformer\n",
        "from lance import LanceDB\n",
        "from langchain.vectorstores import LanceDB\n",
        "from langchain.embeddings import OpenAIEmbeddings"
      ]
    },
    {
      "cell_type": "code",
      "source": [
        "# Setup OpenAI API key\n",
        "openai.api_key = os.getenv(\"OPENAI_API_KEY\")"
      ],
      "metadata": {
        "id": "za4WKCNyhsw0"
      },
      "execution_count": null,
      "outputs": []
    },
    {
      "cell_type": "code",
      "source": [
        "# Download and load data\n",
        "data_url = \"https://example.com/sample-text-data.txt\"\n",
        "response = requests.get(data_url)\n",
        "data = response.text"
      ],
      "metadata": {
        "id": "NAjchKZ5h9PO"
      },
      "execution_count": null,
      "outputs": []
    },
    {
      "cell_type": "markdown",
      "source": [
        "### Step 4: Split text into small chunk"
      ],
      "metadata": {
        "id": "IBLWWyuviEgl"
      }
    },
    {
      "cell_type": "code",
      "source": [
        "# Split text into small chunks\n",
        "chunks = data.split('\\n')\n",
        "chunks = [chunk for chunk in chunks if len(chunk) > 50]"
      ],
      "metadata": {
        "id": "bwEHm2yjiDND"
      },
      "execution_count": null,
      "outputs": []
    }
  ]
}