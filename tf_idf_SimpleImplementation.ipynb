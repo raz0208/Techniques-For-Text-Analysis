{
  "nbformat": 4,
  "nbformat_minor": 0,
  "metadata": {
    "colab": {
      "provenance": [],
      "authorship_tag": "ABX9TyMlCDjEsdry5DjR9KNAKoio",
      "include_colab_link": true
    },
    "kernelspec": {
      "name": "python3",
      "display_name": "Python 3"
    },
    "language_info": {
      "name": "python"
    }
  },
  "cells": [
    {
      "cell_type": "markdown",
      "metadata": {
        "id": "view-in-github",
        "colab_type": "text"
      },
      "source": [
        "<a href=\"https://colab.research.google.com/github/raz0208/Techniques-For-Text-Analysis/blob/main/tf_idf_SimpleImplementation.ipynb\" target=\"_parent\"><img src=\"https://colab.research.google.com/assets/colab-badge.svg\" alt=\"Open In Colab\"/></a>"
      ]
    },
    {
      "cell_type": "markdown",
      "source": [
        "## TF-IDF (Term Frequency-Inverse Document Frequency)\n",
        "\n",
        "It’s a statistical measure used in natural language processing and information retrieval to evaluate the importance of a word in a document relative to a collection of documents (also called a corpus).\n",
        "\n",
        "### Let’s break it down:\n",
        "- Term Frequency (TF): Measures how often a term $t$ (word) appears in a document $d$:\n",
        "\n",
        "$$\n",
        "TF(t,d)=\\frac{\\text{Number of times term } t \\text{ appears in } d}{\\text{Total number of terms in } d}\n",
        "$$\n",
        "\n",
        "- Inverse Document Frequency (IDF): Measures how unique or rare a word is across all documents in the corpus.\n",
        "\n",
        "$$\n",
        "IDF(t,D)=log\\frac{\\text{Total number of documents in} D}{1+\\text{Number of documents containig} t}\n",
        "$$"
      ],
      "metadata": {
        "id": "VXp_xD-8fZwV"
      }
    },
    {
      "cell_type": "markdown",
      "source": [
        "### Step 1: Import libraries and read dataset"
      ],
      "metadata": {
        "id": "kueLWucFjere"
      }
    },
    {
      "cell_type": "code",
      "source": [
        "# Import required libriaries\n",
        "import numpy as np\n",
        "import math\n",
        "import pandas as pd\n",
        "from collections import Counter"
      ],
      "metadata": {
        "id": "nPrZ1BpafWYm"
      },
      "execution_count": 37,
      "outputs": []
    },
    {
      "cell_type": "code",
      "source": [
        "# Read the dataset (Simple text or files such as txt, pdf, and etc.)\n",
        "document_1 = [\n",
        "    \"\"\"In the heart of the city, where the streets hum with the rhythm of daily life, a small café stood nestled\n",
        "    between towering buildings. The aroma of freshly brewed coffee mingled with the crisp morning air, drawing in\n",
        "    early risers and weary travelers alike. Inside, the café buzzed with quiet conversations, the clinking of cups,\n",
        "    and the occasional rustle of newspaper pages.\"\"\",\n",
        "\n",
        "    \"\"\"Among the patrons sat an old man, his eyes filled with the weight of years, gazing out the window as the world\n",
        "    passed by. Across from him, a young woman typed furiously on her laptop, her brow furrowed in concentration.\n",
        "    The barista, a cheerful fellow with a knack for remembering names, moved gracefully behind the counter,\n",
        "    crafting intricate patterns in the frothy tops of cappuccinos.\"\"\",\n",
        "\n",
        "    \"\"\"As the morning stretched into afternoon, the café remained a sanctuary—a temporary escape from the relentless\n",
        "    pace of the world outside. The city continued its symphony of honking horns and hurried footsteps, but within\n",
        "    these walls, time seemed to slow, allowing stories to unfold in whispered exchanges and silent reflections.\"\"\"\n",
        "]"
      ],
      "metadata": {
        "id": "OF6TdItdj019"
      },
      "execution_count": 31,
      "outputs": []
    },
    {
      "cell_type": "markdown",
      "source": [
        "### Step 2: Tokenization & Vocabulary Creation\n",
        "- Tokenize the corpus (corpus_tokenizer).\n",
        "- Build a vocabulary (build_vocab).\n",
        "- Get the total document count (docs_count)."
      ],
      "metadata": {
        "id": "qhKg_uCajxkF"
      }
    },
    {
      "cell_type": "code",
      "source": [
        "# Tokenize the corpus (by corpus_tokenizer function)\n",
        "def corpus_tokenizer(doc):\n",
        "    return [doc.lower().split() for doc in doc]\n",
        "\n",
        "tokenized_doc = corpus_tokenizer(document_1)\n",
        "print(tokenized_doc)"
      ],
      "metadata": {
        "colab": {
          "base_uri": "https://localhost:8080/"
        },
        "id": "9WD0Wll-jjBe",
        "outputId": "c596543e-9b9b-451b-8085-52508a579b0b"
      },
      "execution_count": 32,
      "outputs": [
        {
          "output_type": "stream",
          "name": "stdout",
          "text": [
            "[['in', 'the', 'heart', 'of', 'the', 'city,', 'where', 'the', 'streets', 'hum', 'with', 'the', 'rhythm', 'of', 'daily', 'life,', 'a', 'small', 'café', 'stood', 'nestled', 'between', 'towering', 'buildings.', 'the', 'aroma', 'of', 'freshly', 'brewed', 'coffee', 'mingled', 'with', 'the', 'crisp', 'morning', 'air,', 'drawing', 'in', 'early', 'risers', 'and', 'weary', 'travelers', 'alike.', 'inside,', 'the', 'café', 'buzzed', 'with', 'quiet', 'conversations,', 'the', 'clinking', 'of', 'cups,', 'and', 'the', 'occasional', 'rustle', 'of', 'newspaper', 'pages.'], ['among', 'the', 'patrons', 'sat', 'an', 'old', 'man,', 'his', 'eyes', 'filled', 'with', 'the', 'weight', 'of', 'years,', 'gazing', 'out', 'the', 'window', 'as', 'the', 'world', 'passed', 'by.', 'across', 'from', 'him,', 'a', 'young', 'woman', 'typed', 'furiously', 'on', 'her', 'laptop,', 'her', 'brow', 'furrowed', 'in', 'concentration.', 'the', 'barista,', 'a', 'cheerful', 'fellow', 'with', 'a', 'knack', 'for', 'remembering', 'names,', 'moved', 'gracefully', 'behind', 'the', 'counter,', 'crafting', 'intricate', 'patterns', 'in', 'the', 'frothy', 'tops', 'of', 'cappuccinos.'], ['as', 'the', 'morning', 'stretched', 'into', 'afternoon,', 'the', 'café', 'remained', 'a', 'sanctuary—a', 'temporary', 'escape', 'from', 'the', 'relentless', 'pace', 'of', 'the', 'world', 'outside.', 'the', 'city', 'continued', 'its', 'symphony', 'of', 'honking', 'horns', 'and', 'hurried', 'footsteps,', 'but', 'within', 'these', 'walls,', 'time', 'seemed', 'to', 'slow,', 'allowing', 'stories', 'to', 'unfold', 'in', 'whispered', 'exchanges', 'and', 'silent', 'reflections.']]\n"
          ]
        }
      ]
    },
    {
      "cell_type": "code",
      "source": [
        "# Build a vocabulary (by build_vocab function)\n",
        "def build_vocab(doc):\n",
        "  vocab = Counter()\n",
        "  for tokens in doc:\n",
        "    vocab.update(tokens)\n",
        "  return sorted(vocab)\n",
        "\n",
        "vocab = build_vocab(tokenized_doc)\n",
        "print(vocab)"
      ],
      "metadata": {
        "colab": {
          "base_uri": "https://localhost:8080/"
        },
        "id": "uSrSVWfzkM3f",
        "outputId": "a48df93c-6749-4f3a-fbec-2b162c019ae9"
      },
      "execution_count": 33,
      "outputs": [
        {
          "output_type": "stream",
          "name": "stdout",
          "text": [
            "['a', 'across', 'afternoon,', 'air,', 'alike.', 'allowing', 'among', 'an', 'and', 'aroma', 'as', 'barista,', 'behind', 'between', 'brewed', 'brow', 'buildings.', 'but', 'buzzed', 'by.', 'café', 'cappuccinos.', 'cheerful', 'city', 'city,', 'clinking', 'coffee', 'concentration.', 'continued', 'conversations,', 'counter,', 'crafting', 'crisp', 'cups,', 'daily', 'drawing', 'early', 'escape', 'exchanges', 'eyes', 'fellow', 'filled', 'footsteps,', 'for', 'freshly', 'from', 'frothy', 'furiously', 'furrowed', 'gazing', 'gracefully', 'heart', 'her', 'him,', 'his', 'honking', 'horns', 'hum', 'hurried', 'in', 'inside,', 'into', 'intricate', 'its', 'knack', 'laptop,', 'life,', 'man,', 'mingled', 'morning', 'moved', 'names,', 'nestled', 'newspaper', 'occasional', 'of', 'old', 'on', 'out', 'outside.', 'pace', 'pages.', 'passed', 'patrons', 'patterns', 'quiet', 'reflections.', 'relentless', 'remained', 'remembering', 'rhythm', 'risers', 'rustle', 'sanctuary—a', 'sat', 'seemed', 'silent', 'slow,', 'small', 'stood', 'stories', 'streets', 'stretched', 'symphony', 'temporary', 'the', 'these', 'time', 'to', 'tops', 'towering', 'travelers', 'typed', 'unfold', 'walls,', 'weary', 'weight', 'where', 'whispered', 'window', 'with', 'within', 'woman', 'world', 'years,', 'young']\n"
          ]
        }
      ]
    },
    {
      "cell_type": "code",
      "source": [
        "# Get the total document count (by docs_count function)\n",
        "def docs_count(doc):\n",
        "  return len(doc)\n",
        "\n",
        "doc_count = docs_count(tokenized_doc)\n",
        "print(f\"The number of documents: {doc_count}\")"
      ],
      "metadata": {
        "colab": {
          "base_uri": "https://localhost:8080/"
        },
        "id": "MwQedEHAk-yX",
        "outputId": "cf209817-c216-484a-cde8-a4f8253b6175"
      },
      "execution_count": 35,
      "outputs": [
        {
          "output_type": "stream",
          "name": "stdout",
          "text": [
            "The number of documents: 3\n"
          ]
        }
      ]
    },
    {
      "cell_type": "markdown",
      "source": [
        "### Step 3: Compute Document Frequency (DF)\n",
        "- Count how many documents contain each word."
      ],
      "metadata": {
        "id": "sXebAPC0nnpl"
      }
    },
    {
      "cell_type": "code",
      "source": [
        "# Count how many documents contain each word\n",
        "def compute_df(tokenized_corpus, vocab):\n",
        "    df = {word: 0 for word in vocab}\n",
        "    for tokens in tokenized_corpus:\n",
        "        unique_tokens = set(tokens)\n",
        "        for token in unique_tokens:\n",
        "            if token in df:\n",
        "                df[token] += 1\n",
        "    return df\n",
        "\n",
        "doc_ferq = compute_df(tokenized_doc, vocab)\n",
        "doc_ferq_pd = pd.DataFrame(list(doc_ferq.items()), columns=['Word', 'Frequency'])\n",
        "print(doc_ferq_pd)"
      ],
      "metadata": {
        "colab": {
          "base_uri": "https://localhost:8080/"
        },
        "id": "xJkNwc6BnsV2",
        "outputId": "f2dade31-05c5-463d-f57b-fd998cc8eeff"
      },
      "execution_count": 39,
      "outputs": [
        {
          "output_type": "stream",
          "name": "stdout",
          "text": [
            "           Word  Frequency\n",
            "0             a          3\n",
            "1        across          1\n",
            "2    afternoon,          1\n",
            "3          air,          1\n",
            "4        alike.          1\n",
            "..          ...        ...\n",
            "121      within          1\n",
            "122       woman          1\n",
            "123       world          2\n",
            "124      years,          1\n",
            "125       young          1\n",
            "\n",
            "[126 rows x 2 columns]\n"
          ]
        }
      ]
    },
    {
      "cell_type": "markdown",
      "source": [
        "### Step 4: Compute Term Frequency (TF)\n",
        "- Count word occurrences per document, normalized by document length."
      ],
      "metadata": {
        "id": "cIYt0_JlnyL2"
      }
    },
    {
      "cell_type": "code",
      "source": [
        "# Count word occurrences per document, normalized by document length.\n",
        "def compute_tf(tokenized_corpus, vocab):\n",
        "    tf = []\n",
        "    for tokens in tokenized_corpus:\n",
        "        doc_tf = Counter(tokens)\n",
        "        doc_length = len(tokens)\n",
        "        tf.append({word: doc_tf[word] / doc_length if word in doc_tf else 0 for word in vocab})\n",
        "    return tf\n",
        "\n",
        "term_ferq = compute_tf(tokenized_doc, vocab)\n",
        "term_ferq_pd = pd.DataFrame(term_ferq)\n",
        "print(term_ferq_pd)"
      ],
      "metadata": {
        "colab": {
          "base_uri": "https://localhost:8080/"
        },
        "id": "RaZ-Q5NTnyg-",
        "outputId": "87277649-f7dc-44b5-dd48-a7162200417a"
      },
      "execution_count": 40,
      "outputs": [
        {
          "output_type": "stream",
          "name": "stdout",
          "text": [
            "          a    across  afternoon,      air,    alike.  allowing     among  \\\n",
            "0  0.016129  0.000000        0.00  0.016129  0.016129      0.00  0.000000   \n",
            "1  0.046154  0.015385        0.00  0.000000  0.000000      0.00  0.015385   \n",
            "2  0.020000  0.000000        0.02  0.000000  0.000000      0.02  0.000000   \n",
            "\n",
            "         an       and     aroma  ...    weight     where  whispered    window  \\\n",
            "0  0.000000  0.032258  0.016129  ...  0.000000  0.016129       0.00  0.000000   \n",
            "1  0.015385  0.000000  0.000000  ...  0.015385  0.000000       0.00  0.015385   \n",
            "2  0.000000  0.040000  0.000000  ...  0.000000  0.000000       0.02  0.000000   \n",
            "\n",
            "       with  within     woman     world    years,     young  \n",
            "0  0.048387    0.00  0.000000  0.000000  0.000000  0.000000  \n",
            "1  0.030769    0.00  0.015385  0.015385  0.015385  0.015385  \n",
            "2  0.000000    0.02  0.000000  0.020000  0.000000  0.000000  \n",
            "\n",
            "[3 rows x 126 columns]\n"
          ]
        }
      ]
    },
    {
      "cell_type": "markdown",
      "source": [
        "### Step 5: Compute TF-IDF\n",
        "- Multiply TF by IDF for each word in each document."
      ],
      "metadata": {
        "id": "aan8tF82oALV"
      }
    },
    {
      "cell_type": "code",
      "source": [
        "# Multiply TF by IDF for each word in each document.\n",
        "def compute_tfidf(tf, df, total_docs):\n",
        "    idf = {word: math.log((total_docs + 1) / (df[word] + 1)) + 1 for word in df}  # Smoothed IDF\n",
        "    tfidf = []\n",
        "    for doc_tf in tf:\n",
        "        tfidf.append({word: doc_tf[word] * idf[word] for word in doc_tf})\n",
        "    return tfidf\n",
        "\n",
        "tfidf_scores = compute_tfidf(term_ferq, doc_ferq, doc_count)\n",
        "tfidf_scores_pd = pd.DataFrame(tfidf_scores)\n",
        "print(tfidf_scores_pd)"
      ],
      "metadata": {
        "colab": {
          "base_uri": "https://localhost:8080/"
        },
        "id": "n_UMoRAaoAgt",
        "outputId": "dc2d48d5-3b01-4186-dbae-0f3f39da2c18"
      },
      "execution_count": 41,
      "outputs": [
        {
          "output_type": "stream",
          "name": "stdout",
          "text": [
            "          a    across  afternoon,      air,    alike.  allowing     among  \\\n",
            "0  0.016129  0.000000    0.000000  0.027309  0.027309  0.000000  0.000000   \n",
            "1  0.046154  0.026048    0.000000  0.000000  0.000000  0.000000  0.026048   \n",
            "2  0.020000  0.000000    0.033863  0.000000  0.000000  0.033863  0.000000   \n",
            "\n",
            "         an       and     aroma  ...    weight     where  whispered    window  \\\n",
            "0  0.000000  0.041538  0.027309  ...  0.000000  0.027309   0.000000  0.000000   \n",
            "1  0.026048  0.000000  0.000000  ...  0.026048  0.000000   0.000000  0.026048   \n",
            "2  0.000000  0.051507  0.000000  ...  0.000000  0.000000   0.033863  0.000000   \n",
            "\n",
            "       with    within     woman     world    years,     young  \n",
            "0  0.062307  0.000000  0.000000  0.000000  0.000000  0.000000  \n",
            "1  0.039621  0.000000  0.026048  0.019810  0.026048  0.026048  \n",
            "2  0.000000  0.033863  0.000000  0.025754  0.000000  0.000000  \n",
            "\n",
            "[3 rows x 126 columns]\n"
          ]
        }
      ]
    },
    {
      "cell_type": "code",
      "source": [
        "print(\"Vocabulary:\", vocab)\n",
        "print(\"TF-IDF Scores:\")\n",
        "for i, doc_tfidf in enumerate(tfidf_scores):\n",
        "    print(f\"Document {i+1}: {doc_tfidf}\")"
      ],
      "metadata": {
        "id": "WJ2C73v7pU9V",
        "outputId": "3d96e0b6-e4a2-42ce-f98e-8be512564efe",
        "colab": {
          "base_uri": "https://localhost:8080/"
        }
      },
      "execution_count": 43,
      "outputs": [
        {
          "output_type": "stream",
          "name": "stdout",
          "text": [
            "Vocabulary: ['a', 'across', 'afternoon,', 'air,', 'alike.', 'allowing', 'among', 'an', 'and', 'aroma', 'as', 'barista,', 'behind', 'between', 'brewed', 'brow', 'buildings.', 'but', 'buzzed', 'by.', 'café', 'cappuccinos.', 'cheerful', 'city', 'city,', 'clinking', 'coffee', 'concentration.', 'continued', 'conversations,', 'counter,', 'crafting', 'crisp', 'cups,', 'daily', 'drawing', 'early', 'escape', 'exchanges', 'eyes', 'fellow', 'filled', 'footsteps,', 'for', 'freshly', 'from', 'frothy', 'furiously', 'furrowed', 'gazing', 'gracefully', 'heart', 'her', 'him,', 'his', 'honking', 'horns', 'hum', 'hurried', 'in', 'inside,', 'into', 'intricate', 'its', 'knack', 'laptop,', 'life,', 'man,', 'mingled', 'morning', 'moved', 'names,', 'nestled', 'newspaper', 'occasional', 'of', 'old', 'on', 'out', 'outside.', 'pace', 'pages.', 'passed', 'patrons', 'patterns', 'quiet', 'reflections.', 'relentless', 'remained', 'remembering', 'rhythm', 'risers', 'rustle', 'sanctuary—a', 'sat', 'seemed', 'silent', 'slow,', 'small', 'stood', 'stories', 'streets', 'stretched', 'symphony', 'temporary', 'the', 'these', 'time', 'to', 'tops', 'towering', 'travelers', 'typed', 'unfold', 'walls,', 'weary', 'weight', 'where', 'whispered', 'window', 'with', 'within', 'woman', 'world', 'years,', 'young']\n",
            "TF-IDF Scores:\n",
            "Document 1: {'a': 0.016129032258064516, 'across': 0.0, 'afternoon,': 0.0, 'air,': 0.027308825492902346, 'alike.': 0.027308825492902346, 'allowing': 0.0, 'among': 0.0, 'an': 0.0, 'and': 0.041538131369412284, 'aroma': 0.027308825492902346, 'as': 0.0, 'barista,': 0.0, 'behind': 0.0, 'between': 0.027308825492902346, 'brewed': 0.027308825492902346, 'brow': 0.0, 'buildings.': 0.027308825492902346, 'but': 0.0, 'buzzed': 0.027308825492902346, 'by.': 0.0, 'café': 0.041538131369412284, 'cappuccinos.': 0.0, 'cheerful': 0.0, 'city': 0.0, 'city,': 0.027308825492902346, 'clinking': 0.027308825492902346, 'coffee': 0.027308825492902346, 'concentration.': 0.0, 'continued': 0.0, 'conversations,': 0.027308825492902346, 'counter,': 0.0, 'crafting': 0.0, 'crisp': 0.027308825492902346, 'cups,': 0.027308825492902346, 'daily': 0.027308825492902346, 'drawing': 0.027308825492902346, 'early': 0.027308825492902346, 'escape': 0.0, 'exchanges': 0.0, 'eyes': 0.0, 'fellow': 0.0, 'filled': 0.0, 'footsteps,': 0.0, 'for': 0.0, 'freshly': 0.027308825492902346, 'from': 0.0, 'frothy': 0.0, 'furiously': 0.0, 'furrowed': 0.0, 'gazing': 0.0, 'gracefully': 0.0, 'heart': 0.027308825492902346, 'her': 0.0, 'him,': 0.0, 'his': 0.0, 'honking': 0.0, 'horns': 0.0, 'hum': 0.027308825492902346, 'hurried': 0.0, 'in': 0.03225806451612903, 'inside,': 0.027308825492902346, 'into': 0.0, 'intricate': 0.0, 'its': 0.0, 'knack': 0.0, 'laptop,': 0.0, 'life,': 0.027308825492902346, 'man,': 0.0, 'mingled': 0.027308825492902346, 'morning': 0.020769065684706142, 'moved': 0.0, 'names,': 0.0, 'nestled': 0.027308825492902346, 'newspaper': 0.027308825492902346, 'occasional': 0.027308825492902346, 'of': 0.08064516129032258, 'old': 0.0, 'on': 0.0, 'out': 0.0, 'outside.': 0.0, 'pace': 0.0, 'pages.': 0.027308825492902346, 'passed': 0.0, 'patrons': 0.0, 'patterns': 0.0, 'quiet': 0.027308825492902346, 'reflections.': 0.0, 'relentless': 0.0, 'remained': 0.0, 'remembering': 0.0, 'rhythm': 0.027308825492902346, 'risers': 0.027308825492902346, 'rustle': 0.027308825492902346, 'sanctuary—a': 0.0, 'sat': 0.0, 'seemed': 0.0, 'silent': 0.0, 'slow,': 0.0, 'small': 0.027308825492902346, 'stood': 0.027308825492902346, 'stories': 0.0, 'streets': 0.027308825492902346, 'stretched': 0.0, 'symphony': 0.0, 'temporary': 0.0, 'the': 0.14516129032258066, 'these': 0.0, 'time': 0.0, 'to': 0.0, 'tops': 0.0, 'towering': 0.027308825492902346, 'travelers': 0.027308825492902346, 'typed': 0.0, 'unfold': 0.0, 'walls,': 0.0, 'weary': 0.027308825492902346, 'weight': 0.0, 'where': 0.027308825492902346, 'whispered': 0.0, 'window': 0.0, 'with': 0.06230719705411843, 'within': 0.0, 'woman': 0.0, 'world': 0.0, 'years,': 0.0, 'young': 0.0}\n",
            "Document 2: {'a': 0.046153846153846156, 'across': 0.0260484181624607, 'afternoon,': 0.0, 'air,': 0.0, 'alike.': 0.0, 'allowing': 0.0, 'among': 0.0260484181624607, 'an': 0.0260484181624607, 'and': 0.0, 'aroma': 0.0, 'as': 0.01981049342233509, 'barista,': 0.0260484181624607, 'behind': 0.0260484181624607, 'between': 0.0, 'brewed': 0.0, 'brow': 0.0260484181624607, 'buildings.': 0.0, 'but': 0.0, 'buzzed': 0.0, 'by.': 0.0260484181624607, 'café': 0.0, 'cappuccinos.': 0.0260484181624607, 'cheerful': 0.0260484181624607, 'city': 0.0, 'city,': 0.0, 'clinking': 0.0, 'coffee': 0.0, 'concentration.': 0.0260484181624607, 'continued': 0.0, 'conversations,': 0.0, 'counter,': 0.0260484181624607, 'crafting': 0.0260484181624607, 'crisp': 0.0, 'cups,': 0.0, 'daily': 0.0, 'drawing': 0.0, 'early': 0.0, 'escape': 0.0, 'exchanges': 0.0, 'eyes': 0.0260484181624607, 'fellow': 0.0260484181624607, 'filled': 0.0260484181624607, 'footsteps,': 0.0, 'for': 0.0260484181624607, 'freshly': 0.0, 'from': 0.01981049342233509, 'frothy': 0.0260484181624607, 'furiously': 0.0260484181624607, 'furrowed': 0.0260484181624607, 'gazing': 0.0260484181624607, 'gracefully': 0.0260484181624607, 'heart': 0.0, 'her': 0.0520968363249214, 'him,': 0.0260484181624607, 'his': 0.0260484181624607, 'honking': 0.0, 'horns': 0.0, 'hum': 0.0, 'hurried': 0.0, 'in': 0.03076923076923077, 'inside,': 0.0, 'into': 0.0, 'intricate': 0.0260484181624607, 'its': 0.0, 'knack': 0.0260484181624607, 'laptop,': 0.0260484181624607, 'life,': 0.0, 'man,': 0.0260484181624607, 'mingled': 0.0, 'morning': 0.0, 'moved': 0.0260484181624607, 'names,': 0.0260484181624607, 'nestled': 0.0, 'newspaper': 0.0, 'occasional': 0.0, 'of': 0.03076923076923077, 'old': 0.0260484181624607, 'on': 0.0260484181624607, 'out': 0.0260484181624607, 'outside.': 0.0, 'pace': 0.0, 'pages.': 0.0, 'passed': 0.0260484181624607, 'patrons': 0.0260484181624607, 'patterns': 0.0260484181624607, 'quiet': 0.0, 'reflections.': 0.0, 'relentless': 0.0, 'remained': 0.0, 'remembering': 0.0260484181624607, 'rhythm': 0.0, 'risers': 0.0, 'rustle': 0.0, 'sanctuary—a': 0.0, 'sat': 0.0260484181624607, 'seemed': 0.0, 'silent': 0.0, 'slow,': 0.0, 'small': 0.0, 'stood': 0.0, 'stories': 0.0, 'streets': 0.0, 'stretched': 0.0, 'symphony': 0.0, 'temporary': 0.0, 'the': 0.1076923076923077, 'these': 0.0, 'time': 0.0, 'to': 0.0, 'tops': 0.0260484181624607, 'towering': 0.0, 'travelers': 0.0, 'typed': 0.0260484181624607, 'unfold': 0.0, 'walls,': 0.0, 'weary': 0.0, 'weight': 0.0260484181624607, 'where': 0.0, 'whispered': 0.0, 'window': 0.0260484181624607, 'with': 0.03962098684467018, 'within': 0.0, 'woman': 0.0260484181624607, 'world': 0.01981049342233509, 'years,': 0.0260484181624607, 'young': 0.0260484181624607}\n",
            "Document 3: {'a': 0.02, 'across': 0.0, 'afternoon,': 0.03386294361119891, 'air,': 0.0, 'alike.': 0.0, 'allowing': 0.03386294361119891, 'among': 0.0, 'an': 0.0, 'and': 0.05150728289807123, 'aroma': 0.0, 'as': 0.025753641449035615, 'barista,': 0.0, 'behind': 0.0, 'between': 0.0, 'brewed': 0.0, 'brow': 0.0, 'buildings.': 0.0, 'but': 0.03386294361119891, 'buzzed': 0.0, 'by.': 0.0, 'café': 0.025753641449035615, 'cappuccinos.': 0.0, 'cheerful': 0.0, 'city': 0.03386294361119891, 'city,': 0.0, 'clinking': 0.0, 'coffee': 0.0, 'concentration.': 0.0, 'continued': 0.03386294361119891, 'conversations,': 0.0, 'counter,': 0.0, 'crafting': 0.0, 'crisp': 0.0, 'cups,': 0.0, 'daily': 0.0, 'drawing': 0.0, 'early': 0.0, 'escape': 0.03386294361119891, 'exchanges': 0.03386294361119891, 'eyes': 0.0, 'fellow': 0.0, 'filled': 0.0, 'footsteps,': 0.03386294361119891, 'for': 0.0, 'freshly': 0.0, 'from': 0.025753641449035615, 'frothy': 0.0, 'furiously': 0.0, 'furrowed': 0.0, 'gazing': 0.0, 'gracefully': 0.0, 'heart': 0.0, 'her': 0.0, 'him,': 0.0, 'his': 0.0, 'honking': 0.03386294361119891, 'horns': 0.03386294361119891, 'hum': 0.0, 'hurried': 0.03386294361119891, 'in': 0.02, 'inside,': 0.0, 'into': 0.03386294361119891, 'intricate': 0.0, 'its': 0.03386294361119891, 'knack': 0.0, 'laptop,': 0.0, 'life,': 0.0, 'man,': 0.0, 'mingled': 0.0, 'morning': 0.025753641449035615, 'moved': 0.0, 'names,': 0.0, 'nestled': 0.0, 'newspaper': 0.0, 'occasional': 0.0, 'of': 0.04, 'old': 0.0, 'on': 0.0, 'out': 0.0, 'outside.': 0.03386294361119891, 'pace': 0.03386294361119891, 'pages.': 0.0, 'passed': 0.0, 'patrons': 0.0, 'patterns': 0.0, 'quiet': 0.0, 'reflections.': 0.03386294361119891, 'relentless': 0.03386294361119891, 'remained': 0.03386294361119891, 'remembering': 0.0, 'rhythm': 0.0, 'risers': 0.0, 'rustle': 0.0, 'sanctuary—a': 0.03386294361119891, 'sat': 0.0, 'seemed': 0.03386294361119891, 'silent': 0.03386294361119891, 'slow,': 0.03386294361119891, 'small': 0.0, 'stood': 0.0, 'stories': 0.03386294361119891, 'streets': 0.0, 'stretched': 0.03386294361119891, 'symphony': 0.03386294361119891, 'temporary': 0.03386294361119891, 'the': 0.1, 'these': 0.03386294361119891, 'time': 0.03386294361119891, 'to': 0.06772588722239782, 'tops': 0.0, 'towering': 0.0, 'travelers': 0.0, 'typed': 0.0, 'unfold': 0.03386294361119891, 'walls,': 0.03386294361119891, 'weary': 0.0, 'weight': 0.0, 'where': 0.0, 'whispered': 0.03386294361119891, 'window': 0.0, 'with': 0.0, 'within': 0.03386294361119891, 'woman': 0.0, 'world': 0.025753641449035615, 'years,': 0.0, 'young': 0.0}\n"
          ]
        }
      ]
    },
    {
      "cell_type": "markdown",
      "source": [
        "Step 6: Model Evaluation"
      ],
      "metadata": {
        "id": "CoBoeq-JoGgF"
      }
    },
    {
      "cell_type": "code",
      "source": [],
      "metadata": {
        "id": "zEpy48DuoKEV"
      },
      "execution_count": null,
      "outputs": []
    },
    {
      "cell_type": "markdown",
      "source": [
        "### tf-idf: weighing terms in the vector\n",
        "\n",
        "#### A simple code for tf-idf Vectorizer"
      ],
      "metadata": {
        "id": "X3YfWR8geGI3"
      }
    },
    {
      "cell_type": "code",
      "source": [
        "# import required libraries\n",
        "import pandas as pd\n",
        "import numpy as np\n",
        "import matplotlib.pyplot as plt\n",
        "import seaborn as sns\n",
        "from sklearn.feature_extraction.text import TfidfVectorizer"
      ],
      "metadata": {
        "id": "0vF7rL3PeWVf"
      },
      "execution_count": null,
      "outputs": []
    },
    {
      "cell_type": "code",
      "source": [
        "# Sample text documents\n",
        "documents = [\n",
        "    \"Text analysis is an important task in Natural Language Processing.\",\n",
        "    \"TF-IDF is a statistical measure used to evaluate the importance of a word in a document.\",\n",
        "    \"Machine learning models often use TF-IDF for feature extraction.\",\n",
        "    \"Natural Language Processing includes tasks like tokenization, parsing, and named entity recognition.\"\n",
        "]\n",
        "\n",
        "documents"
      ],
      "metadata": {
        "colab": {
          "base_uri": "https://localhost:8080/"
        },
        "id": "96hkCA6PebzH",
        "outputId": "6c02662e-517d-47f3-9c89-305046bf9d99"
      },
      "execution_count": null,
      "outputs": [
        {
          "output_type": "execute_result",
          "data": {
            "text/plain": [
              "['Text analysis is an important task in Natural Language Processing.',\n",
              " 'TF-IDF is a statistical measure used to evaluate the importance of a word in a document.',\n",
              " 'Machine learning models often use TF-IDF for feature extraction.',\n",
              " 'Natural Language Processing includes tasks like tokenization, parsing, and named entity recognition.']"
            ]
          },
          "metadata": {},
          "execution_count": 3
        }
      ]
    },
    {
      "cell_type": "code",
      "source": [
        "# Initialize TF-IDF Vectorizer\n",
        "vectorizer = TfidfVectorizer()\n",
        "\n",
        "vectorizer"
      ],
      "metadata": {
        "colab": {
          "base_uri": "https://localhost:8080/",
          "height": 80
        },
        "id": "vTEVMm54ehEH",
        "outputId": "5bec6ad5-3c58-443c-82d1-bde92d975e86"
      },
      "execution_count": null,
      "outputs": [
        {
          "output_type": "execute_result",
          "data": {
            "text/plain": [
              "TfidfVectorizer()"
            ],
            "text/html": [
              "<style>#sk-container-id-2 {\n",
              "  /* Definition of color scheme common for light and dark mode */\n",
              "  --sklearn-color-text: #000;\n",
              "  --sklearn-color-text-muted: #666;\n",
              "  --sklearn-color-line: gray;\n",
              "  /* Definition of color scheme for unfitted estimators */\n",
              "  --sklearn-color-unfitted-level-0: #fff5e6;\n",
              "  --sklearn-color-unfitted-level-1: #f6e4d2;\n",
              "  --sklearn-color-unfitted-level-2: #ffe0b3;\n",
              "  --sklearn-color-unfitted-level-3: chocolate;\n",
              "  /* Definition of color scheme for fitted estimators */\n",
              "  --sklearn-color-fitted-level-0: #f0f8ff;\n",
              "  --sklearn-color-fitted-level-1: #d4ebff;\n",
              "  --sklearn-color-fitted-level-2: #b3dbfd;\n",
              "  --sklearn-color-fitted-level-3: cornflowerblue;\n",
              "\n",
              "  /* Specific color for light theme */\n",
              "  --sklearn-color-text-on-default-background: var(--sg-text-color, var(--theme-code-foreground, var(--jp-content-font-color1, black)));\n",
              "  --sklearn-color-background: var(--sg-background-color, var(--theme-background, var(--jp-layout-color0, white)));\n",
              "  --sklearn-color-border-box: var(--sg-text-color, var(--theme-code-foreground, var(--jp-content-font-color1, black)));\n",
              "  --sklearn-color-icon: #696969;\n",
              "\n",
              "  @media (prefers-color-scheme: dark) {\n",
              "    /* Redefinition of color scheme for dark theme */\n",
              "    --sklearn-color-text-on-default-background: var(--sg-text-color, var(--theme-code-foreground, var(--jp-content-font-color1, white)));\n",
              "    --sklearn-color-background: var(--sg-background-color, var(--theme-background, var(--jp-layout-color0, #111)));\n",
              "    --sklearn-color-border-box: var(--sg-text-color, var(--theme-code-foreground, var(--jp-content-font-color1, white)));\n",
              "    --sklearn-color-icon: #878787;\n",
              "  }\n",
              "}\n",
              "\n",
              "#sk-container-id-2 {\n",
              "  color: var(--sklearn-color-text);\n",
              "}\n",
              "\n",
              "#sk-container-id-2 pre {\n",
              "  padding: 0;\n",
              "}\n",
              "\n",
              "#sk-container-id-2 input.sk-hidden--visually {\n",
              "  border: 0;\n",
              "  clip: rect(1px 1px 1px 1px);\n",
              "  clip: rect(1px, 1px, 1px, 1px);\n",
              "  height: 1px;\n",
              "  margin: -1px;\n",
              "  overflow: hidden;\n",
              "  padding: 0;\n",
              "  position: absolute;\n",
              "  width: 1px;\n",
              "}\n",
              "\n",
              "#sk-container-id-2 div.sk-dashed-wrapped {\n",
              "  border: 1px dashed var(--sklearn-color-line);\n",
              "  margin: 0 0.4em 0.5em 0.4em;\n",
              "  box-sizing: border-box;\n",
              "  padding-bottom: 0.4em;\n",
              "  background-color: var(--sklearn-color-background);\n",
              "}\n",
              "\n",
              "#sk-container-id-2 div.sk-container {\n",
              "  /* jupyter's `normalize.less` sets `[hidden] { display: none; }`\n",
              "     but bootstrap.min.css set `[hidden] { display: none !important; }`\n",
              "     so we also need the `!important` here to be able to override the\n",
              "     default hidden behavior on the sphinx rendered scikit-learn.org.\n",
              "     See: https://github.com/scikit-learn/scikit-learn/issues/21755 */\n",
              "  display: inline-block !important;\n",
              "  position: relative;\n",
              "}\n",
              "\n",
              "#sk-container-id-2 div.sk-text-repr-fallback {\n",
              "  display: none;\n",
              "}\n",
              "\n",
              "div.sk-parallel-item,\n",
              "div.sk-serial,\n",
              "div.sk-item {\n",
              "  /* draw centered vertical line to link estimators */\n",
              "  background-image: linear-gradient(var(--sklearn-color-text-on-default-background), var(--sklearn-color-text-on-default-background));\n",
              "  background-size: 2px 100%;\n",
              "  background-repeat: no-repeat;\n",
              "  background-position: center center;\n",
              "}\n",
              "\n",
              "/* Parallel-specific style estimator block */\n",
              "\n",
              "#sk-container-id-2 div.sk-parallel-item::after {\n",
              "  content: \"\";\n",
              "  width: 100%;\n",
              "  border-bottom: 2px solid var(--sklearn-color-text-on-default-background);\n",
              "  flex-grow: 1;\n",
              "}\n",
              "\n",
              "#sk-container-id-2 div.sk-parallel {\n",
              "  display: flex;\n",
              "  align-items: stretch;\n",
              "  justify-content: center;\n",
              "  background-color: var(--sklearn-color-background);\n",
              "  position: relative;\n",
              "}\n",
              "\n",
              "#sk-container-id-2 div.sk-parallel-item {\n",
              "  display: flex;\n",
              "  flex-direction: column;\n",
              "}\n",
              "\n",
              "#sk-container-id-2 div.sk-parallel-item:first-child::after {\n",
              "  align-self: flex-end;\n",
              "  width: 50%;\n",
              "}\n",
              "\n",
              "#sk-container-id-2 div.sk-parallel-item:last-child::after {\n",
              "  align-self: flex-start;\n",
              "  width: 50%;\n",
              "}\n",
              "\n",
              "#sk-container-id-2 div.sk-parallel-item:only-child::after {\n",
              "  width: 0;\n",
              "}\n",
              "\n",
              "/* Serial-specific style estimator block */\n",
              "\n",
              "#sk-container-id-2 div.sk-serial {\n",
              "  display: flex;\n",
              "  flex-direction: column;\n",
              "  align-items: center;\n",
              "  background-color: var(--sklearn-color-background);\n",
              "  padding-right: 1em;\n",
              "  padding-left: 1em;\n",
              "}\n",
              "\n",
              "\n",
              "/* Toggleable style: style used for estimator/Pipeline/ColumnTransformer box that is\n",
              "clickable and can be expanded/collapsed.\n",
              "- Pipeline and ColumnTransformer use this feature and define the default style\n",
              "- Estimators will overwrite some part of the style using the `sk-estimator` class\n",
              "*/\n",
              "\n",
              "/* Pipeline and ColumnTransformer style (default) */\n",
              "\n",
              "#sk-container-id-2 div.sk-toggleable {\n",
              "  /* Default theme specific background. It is overwritten whether we have a\n",
              "  specific estimator or a Pipeline/ColumnTransformer */\n",
              "  background-color: var(--sklearn-color-background);\n",
              "}\n",
              "\n",
              "/* Toggleable label */\n",
              "#sk-container-id-2 label.sk-toggleable__label {\n",
              "  cursor: pointer;\n",
              "  display: flex;\n",
              "  width: 100%;\n",
              "  margin-bottom: 0;\n",
              "  padding: 0.5em;\n",
              "  box-sizing: border-box;\n",
              "  text-align: center;\n",
              "  align-items: start;\n",
              "  justify-content: space-between;\n",
              "  gap: 0.5em;\n",
              "}\n",
              "\n",
              "#sk-container-id-2 label.sk-toggleable__label .caption {\n",
              "  font-size: 0.6rem;\n",
              "  font-weight: lighter;\n",
              "  color: var(--sklearn-color-text-muted);\n",
              "}\n",
              "\n",
              "#sk-container-id-2 label.sk-toggleable__label-arrow:before {\n",
              "  /* Arrow on the left of the label */\n",
              "  content: \"▸\";\n",
              "  float: left;\n",
              "  margin-right: 0.25em;\n",
              "  color: var(--sklearn-color-icon);\n",
              "}\n",
              "\n",
              "#sk-container-id-2 label.sk-toggleable__label-arrow:hover:before {\n",
              "  color: var(--sklearn-color-text);\n",
              "}\n",
              "\n",
              "/* Toggleable content - dropdown */\n",
              "\n",
              "#sk-container-id-2 div.sk-toggleable__content {\n",
              "  max-height: 0;\n",
              "  max-width: 0;\n",
              "  overflow: hidden;\n",
              "  text-align: left;\n",
              "  /* unfitted */\n",
              "  background-color: var(--sklearn-color-unfitted-level-0);\n",
              "}\n",
              "\n",
              "#sk-container-id-2 div.sk-toggleable__content.fitted {\n",
              "  /* fitted */\n",
              "  background-color: var(--sklearn-color-fitted-level-0);\n",
              "}\n",
              "\n",
              "#sk-container-id-2 div.sk-toggleable__content pre {\n",
              "  margin: 0.2em;\n",
              "  border-radius: 0.25em;\n",
              "  color: var(--sklearn-color-text);\n",
              "  /* unfitted */\n",
              "  background-color: var(--sklearn-color-unfitted-level-0);\n",
              "}\n",
              "\n",
              "#sk-container-id-2 div.sk-toggleable__content.fitted pre {\n",
              "  /* unfitted */\n",
              "  background-color: var(--sklearn-color-fitted-level-0);\n",
              "}\n",
              "\n",
              "#sk-container-id-2 input.sk-toggleable__control:checked~div.sk-toggleable__content {\n",
              "  /* Expand drop-down */\n",
              "  max-height: 200px;\n",
              "  max-width: 100%;\n",
              "  overflow: auto;\n",
              "}\n",
              "\n",
              "#sk-container-id-2 input.sk-toggleable__control:checked~label.sk-toggleable__label-arrow:before {\n",
              "  content: \"▾\";\n",
              "}\n",
              "\n",
              "/* Pipeline/ColumnTransformer-specific style */\n",
              "\n",
              "#sk-container-id-2 div.sk-label input.sk-toggleable__control:checked~label.sk-toggleable__label {\n",
              "  color: var(--sklearn-color-text);\n",
              "  background-color: var(--sklearn-color-unfitted-level-2);\n",
              "}\n",
              "\n",
              "#sk-container-id-2 div.sk-label.fitted input.sk-toggleable__control:checked~label.sk-toggleable__label {\n",
              "  background-color: var(--sklearn-color-fitted-level-2);\n",
              "}\n",
              "\n",
              "/* Estimator-specific style */\n",
              "\n",
              "/* Colorize estimator box */\n",
              "#sk-container-id-2 div.sk-estimator input.sk-toggleable__control:checked~label.sk-toggleable__label {\n",
              "  /* unfitted */\n",
              "  background-color: var(--sklearn-color-unfitted-level-2);\n",
              "}\n",
              "\n",
              "#sk-container-id-2 div.sk-estimator.fitted input.sk-toggleable__control:checked~label.sk-toggleable__label {\n",
              "  /* fitted */\n",
              "  background-color: var(--sklearn-color-fitted-level-2);\n",
              "}\n",
              "\n",
              "#sk-container-id-2 div.sk-label label.sk-toggleable__label,\n",
              "#sk-container-id-2 div.sk-label label {\n",
              "  /* The background is the default theme color */\n",
              "  color: var(--sklearn-color-text-on-default-background);\n",
              "}\n",
              "\n",
              "/* On hover, darken the color of the background */\n",
              "#sk-container-id-2 div.sk-label:hover label.sk-toggleable__label {\n",
              "  color: var(--sklearn-color-text);\n",
              "  background-color: var(--sklearn-color-unfitted-level-2);\n",
              "}\n",
              "\n",
              "/* Label box, darken color on hover, fitted */\n",
              "#sk-container-id-2 div.sk-label.fitted:hover label.sk-toggleable__label.fitted {\n",
              "  color: var(--sklearn-color-text);\n",
              "  background-color: var(--sklearn-color-fitted-level-2);\n",
              "}\n",
              "\n",
              "/* Estimator label */\n",
              "\n",
              "#sk-container-id-2 div.sk-label label {\n",
              "  font-family: monospace;\n",
              "  font-weight: bold;\n",
              "  display: inline-block;\n",
              "  line-height: 1.2em;\n",
              "}\n",
              "\n",
              "#sk-container-id-2 div.sk-label-container {\n",
              "  text-align: center;\n",
              "}\n",
              "\n",
              "/* Estimator-specific */\n",
              "#sk-container-id-2 div.sk-estimator {\n",
              "  font-family: monospace;\n",
              "  border: 1px dotted var(--sklearn-color-border-box);\n",
              "  border-radius: 0.25em;\n",
              "  box-sizing: border-box;\n",
              "  margin-bottom: 0.5em;\n",
              "  /* unfitted */\n",
              "  background-color: var(--sklearn-color-unfitted-level-0);\n",
              "}\n",
              "\n",
              "#sk-container-id-2 div.sk-estimator.fitted {\n",
              "  /* fitted */\n",
              "  background-color: var(--sklearn-color-fitted-level-0);\n",
              "}\n",
              "\n",
              "/* on hover */\n",
              "#sk-container-id-2 div.sk-estimator:hover {\n",
              "  /* unfitted */\n",
              "  background-color: var(--sklearn-color-unfitted-level-2);\n",
              "}\n",
              "\n",
              "#sk-container-id-2 div.sk-estimator.fitted:hover {\n",
              "  /* fitted */\n",
              "  background-color: var(--sklearn-color-fitted-level-2);\n",
              "}\n",
              "\n",
              "/* Specification for estimator info (e.g. \"i\" and \"?\") */\n",
              "\n",
              "/* Common style for \"i\" and \"?\" */\n",
              "\n",
              ".sk-estimator-doc-link,\n",
              "a:link.sk-estimator-doc-link,\n",
              "a:visited.sk-estimator-doc-link {\n",
              "  float: right;\n",
              "  font-size: smaller;\n",
              "  line-height: 1em;\n",
              "  font-family: monospace;\n",
              "  background-color: var(--sklearn-color-background);\n",
              "  border-radius: 1em;\n",
              "  height: 1em;\n",
              "  width: 1em;\n",
              "  text-decoration: none !important;\n",
              "  margin-left: 0.5em;\n",
              "  text-align: center;\n",
              "  /* unfitted */\n",
              "  border: var(--sklearn-color-unfitted-level-1) 1pt solid;\n",
              "  color: var(--sklearn-color-unfitted-level-1);\n",
              "}\n",
              "\n",
              ".sk-estimator-doc-link.fitted,\n",
              "a:link.sk-estimator-doc-link.fitted,\n",
              "a:visited.sk-estimator-doc-link.fitted {\n",
              "  /* fitted */\n",
              "  border: var(--sklearn-color-fitted-level-1) 1pt solid;\n",
              "  color: var(--sklearn-color-fitted-level-1);\n",
              "}\n",
              "\n",
              "/* On hover */\n",
              "div.sk-estimator:hover .sk-estimator-doc-link:hover,\n",
              ".sk-estimator-doc-link:hover,\n",
              "div.sk-label-container:hover .sk-estimator-doc-link:hover,\n",
              ".sk-estimator-doc-link:hover {\n",
              "  /* unfitted */\n",
              "  background-color: var(--sklearn-color-unfitted-level-3);\n",
              "  color: var(--sklearn-color-background);\n",
              "  text-decoration: none;\n",
              "}\n",
              "\n",
              "div.sk-estimator.fitted:hover .sk-estimator-doc-link.fitted:hover,\n",
              ".sk-estimator-doc-link.fitted:hover,\n",
              "div.sk-label-container:hover .sk-estimator-doc-link.fitted:hover,\n",
              ".sk-estimator-doc-link.fitted:hover {\n",
              "  /* fitted */\n",
              "  background-color: var(--sklearn-color-fitted-level-3);\n",
              "  color: var(--sklearn-color-background);\n",
              "  text-decoration: none;\n",
              "}\n",
              "\n",
              "/* Span, style for the box shown on hovering the info icon */\n",
              ".sk-estimator-doc-link span {\n",
              "  display: none;\n",
              "  z-index: 9999;\n",
              "  position: relative;\n",
              "  font-weight: normal;\n",
              "  right: .2ex;\n",
              "  padding: .5ex;\n",
              "  margin: .5ex;\n",
              "  width: min-content;\n",
              "  min-width: 20ex;\n",
              "  max-width: 50ex;\n",
              "  color: var(--sklearn-color-text);\n",
              "  box-shadow: 2pt 2pt 4pt #999;\n",
              "  /* unfitted */\n",
              "  background: var(--sklearn-color-unfitted-level-0);\n",
              "  border: .5pt solid var(--sklearn-color-unfitted-level-3);\n",
              "}\n",
              "\n",
              ".sk-estimator-doc-link.fitted span {\n",
              "  /* fitted */\n",
              "  background: var(--sklearn-color-fitted-level-0);\n",
              "  border: var(--sklearn-color-fitted-level-3);\n",
              "}\n",
              "\n",
              ".sk-estimator-doc-link:hover span {\n",
              "  display: block;\n",
              "}\n",
              "\n",
              "/* \"?\"-specific style due to the `<a>` HTML tag */\n",
              "\n",
              "#sk-container-id-2 a.estimator_doc_link {\n",
              "  float: right;\n",
              "  font-size: 1rem;\n",
              "  line-height: 1em;\n",
              "  font-family: monospace;\n",
              "  background-color: var(--sklearn-color-background);\n",
              "  border-radius: 1rem;\n",
              "  height: 1rem;\n",
              "  width: 1rem;\n",
              "  text-decoration: none;\n",
              "  /* unfitted */\n",
              "  color: var(--sklearn-color-unfitted-level-1);\n",
              "  border: var(--sklearn-color-unfitted-level-1) 1pt solid;\n",
              "}\n",
              "\n",
              "#sk-container-id-2 a.estimator_doc_link.fitted {\n",
              "  /* fitted */\n",
              "  border: var(--sklearn-color-fitted-level-1) 1pt solid;\n",
              "  color: var(--sklearn-color-fitted-level-1);\n",
              "}\n",
              "\n",
              "/* On hover */\n",
              "#sk-container-id-2 a.estimator_doc_link:hover {\n",
              "  /* unfitted */\n",
              "  background-color: var(--sklearn-color-unfitted-level-3);\n",
              "  color: var(--sklearn-color-background);\n",
              "  text-decoration: none;\n",
              "}\n",
              "\n",
              "#sk-container-id-2 a.estimator_doc_link.fitted:hover {\n",
              "  /* fitted */\n",
              "  background-color: var(--sklearn-color-fitted-level-3);\n",
              "}\n",
              "</style><div id=\"sk-container-id-2\" class=\"sk-top-container\"><div class=\"sk-text-repr-fallback\"><pre>TfidfVectorizer()</pre><b>In a Jupyter environment, please rerun this cell to show the HTML representation or trust the notebook. <br />On GitHub, the HTML representation is unable to render, please try loading this page with nbviewer.org.</b></div><div class=\"sk-container\" hidden><div class=\"sk-item\"><div class=\"sk-estimator  sk-toggleable\"><input class=\"sk-toggleable__control sk-hidden--visually\" id=\"sk-estimator-id-2\" type=\"checkbox\" checked><label for=\"sk-estimator-id-2\" class=\"sk-toggleable__label  sk-toggleable__label-arrow\"><div><div>TfidfVectorizer</div></div><div><a class=\"sk-estimator-doc-link \" rel=\"noreferrer\" target=\"_blank\" href=\"https://scikit-learn.org/1.6/modules/generated/sklearn.feature_extraction.text.TfidfVectorizer.html\">?<span>Documentation for TfidfVectorizer</span></a><span class=\"sk-estimator-doc-link \">i<span>Not fitted</span></span></div></label><div class=\"sk-toggleable__content \"><pre>TfidfVectorizer()</pre></div> </div></div></div></div>"
            ]
          },
          "metadata": {},
          "execution_count": 6
        }
      ]
    },
    {
      "cell_type": "code",
      "source": [
        "# Fit and transform the documents\n",
        "tfidf_matrix = vectorizer.fit_transform(documents)\n",
        "\n",
        "tfidf_matrix"
      ],
      "metadata": {
        "colab": {
          "base_uri": "https://localhost:8080/"
        },
        "id": "GuhyHYhJes2u",
        "outputId": "5c8df8f2-5c7c-46d7-d12b-664649fc8ee4"
      },
      "execution_count": null,
      "outputs": [
        {
          "output_type": "execute_result",
          "data": {
            "text/plain": [
              "<4x39 sparse matrix of type '<class 'numpy.float64'>'\n",
              "\twith 46 stored elements in Compressed Sparse Row format>"
            ]
          },
          "metadata": {},
          "execution_count": 7
        }
      ]
    },
    {
      "cell_type": "code",
      "source": [
        "# Get feature names\n",
        "feature_names = vectorizer.get_feature_names_out()\n",
        "\n",
        "feature_names"
      ],
      "metadata": {
        "colab": {
          "base_uri": "https://localhost:8080/"
        },
        "id": "asikNLHzfb4m",
        "outputId": "5fc94cdd-1cd1-47d9-804e-be74173ab447"
      },
      "execution_count": null,
      "outputs": [
        {
          "output_type": "execute_result",
          "data": {
            "text/plain": [
              "array(['an', 'analysis', 'and', 'document', 'entity', 'evaluate',\n",
              "       'extraction', 'feature', 'for', 'idf', 'importance', 'important',\n",
              "       'in', 'includes', 'is', 'language', 'learning', 'like', 'machine',\n",
              "       'measure', 'models', 'named', 'natural', 'of', 'often', 'parsing',\n",
              "       'processing', 'recognition', 'statistical', 'task', 'tasks',\n",
              "       'text', 'tf', 'the', 'to', 'tokenization', 'use', 'used', 'word'],\n",
              "      dtype=object)"
            ]
          },
          "metadata": {},
          "execution_count": 11
        }
      ]
    },
    {
      "cell_type": "code",
      "source": [
        "# Convert the TF-IDF matrix to a dense array\n",
        "tfidf_array = tfidf_matrix.toarray()\n",
        "\n",
        "tfidf_array"
      ],
      "metadata": {
        "colab": {
          "base_uri": "https://localhost:8080/"
        },
        "id": "LN9L2IPAfNsW",
        "outputId": "ccb405f4-8a8d-4a82-b3ce-b124a70c094f"
      },
      "execution_count": null,
      "outputs": [
        {
          "output_type": "execute_result",
          "data": {
            "text/plain": [
              "array([[0.35119159, 0.35119159, 0.        , 0.        , 0.        ,\n",
              "        0.        , 0.        , 0.        , 0.        , 0.        ,\n",
              "        0.        , 0.35119159, 0.27688349, 0.        , 0.27688349,\n",
              "        0.27688349, 0.        , 0.        , 0.        , 0.        ,\n",
              "        0.        , 0.        , 0.27688349, 0.        , 0.        ,\n",
              "        0.        , 0.27688349, 0.        , 0.        , 0.35119159,\n",
              "        0.        , 0.35119159, 0.        , 0.        , 0.        ,\n",
              "        0.        , 0.        , 0.        , 0.        ],\n",
              "       [0.        , 0.        , 0.        , 0.28299704, 0.        ,\n",
              "        0.28299704, 0.        , 0.        , 0.        , 0.22311811,\n",
              "        0.28299704, 0.        , 0.22311811, 0.        , 0.22311811,\n",
              "        0.        , 0.        , 0.        , 0.        , 0.28299704,\n",
              "        0.        , 0.        , 0.        , 0.28299704, 0.        ,\n",
              "        0.        , 0.        , 0.        , 0.28299704, 0.        ,\n",
              "        0.        , 0.        , 0.22311811, 0.28299704, 0.28299704,\n",
              "        0.        , 0.        , 0.28299704, 0.28299704],\n",
              "       [0.        , 0.        , 0.        , 0.        , 0.        ,\n",
              "        0.        , 0.32891916, 0.32891916, 0.32891916, 0.25932364,\n",
              "        0.        , 0.        , 0.        , 0.        , 0.        ,\n",
              "        0.        , 0.32891916, 0.        , 0.32891916, 0.        ,\n",
              "        0.32891916, 0.        , 0.        , 0.        , 0.32891916,\n",
              "        0.        , 0.        , 0.        , 0.        , 0.        ,\n",
              "        0.        , 0.        , 0.25932364, 0.        , 0.        ,\n",
              "        0.        , 0.32891916, 0.        , 0.        ],\n",
              "       [0.        , 0.        , 0.30338183, 0.        , 0.30338183,\n",
              "        0.        , 0.        , 0.        , 0.        , 0.        ,\n",
              "        0.        , 0.        , 0.        , 0.30338183, 0.        ,\n",
              "        0.23918972, 0.        , 0.30338183, 0.        , 0.        ,\n",
              "        0.        , 0.30338183, 0.23918972, 0.        , 0.        ,\n",
              "        0.30338183, 0.23918972, 0.30338183, 0.        , 0.        ,\n",
              "        0.30338183, 0.        , 0.        , 0.        , 0.        ,\n",
              "        0.30338183, 0.        , 0.        , 0.        ]])"
            ]
          },
          "metadata": {},
          "execution_count": 12
        }
      ]
    },
    {
      "cell_type": "code",
      "execution_count": null,
      "metadata": {
        "colab": {
          "base_uri": "https://localhost:8080/"
        },
        "id": "i0eY-3XedrGx",
        "outputId": "8b4a613b-2ff5-414f-f9a4-ff1ae25e6d2e"
      },
      "outputs": [
        {
          "output_type": "stream",
          "name": "stdout",
          "text": [
            "\n",
            "Document 1:\n",
            "an: 0.3512\n",
            "analysis: 0.3512\n",
            "important: 0.3512\n",
            "in: 0.2769\n",
            "is: 0.2769\n",
            "language: 0.2769\n",
            "natural: 0.2769\n",
            "processing: 0.2769\n",
            "task: 0.3512\n",
            "text: 0.3512\n",
            "\n",
            "Document 2:\n",
            "document: 0.2830\n",
            "evaluate: 0.2830\n",
            "idf: 0.2231\n",
            "importance: 0.2830\n",
            "in: 0.2231\n",
            "is: 0.2231\n",
            "measure: 0.2830\n",
            "of: 0.2830\n",
            "statistical: 0.2830\n",
            "tf: 0.2231\n",
            "the: 0.2830\n",
            "to: 0.2830\n",
            "used: 0.2830\n",
            "word: 0.2830\n",
            "\n",
            "Document 3:\n",
            "extraction: 0.3289\n",
            "feature: 0.3289\n",
            "for: 0.3289\n",
            "idf: 0.2593\n",
            "learning: 0.3289\n",
            "machine: 0.3289\n",
            "models: 0.3289\n",
            "often: 0.3289\n",
            "tf: 0.2593\n",
            "use: 0.3289\n",
            "\n",
            "Document 4:\n",
            "and: 0.3034\n",
            "entity: 0.3034\n",
            "includes: 0.3034\n",
            "language: 0.2392\n",
            "like: 0.3034\n",
            "named: 0.3034\n",
            "natural: 0.2392\n",
            "parsing: 0.3034\n",
            "processing: 0.2392\n",
            "recognition: 0.3034\n",
            "tasks: 0.3034\n",
            "tokenization: 0.3034\n"
          ]
        }
      ],
      "source": [
        "# Print TF-IDF scores\n",
        "for i, doc in enumerate(documents):\n",
        "    print(f\"\\nDocument {i+1}:\")\n",
        "    for word, score in zip(feature_names, tfidf_array[i]):\n",
        "        if score > 0:  # Print only non-zero scores\n",
        "            print(f\"{word}: {score:.4f}\")"
      ]
    },
    {
      "cell_type": "code",
      "source": [
        "# Create a DataFrame for visualization\n",
        "df = pd.DataFrame(tfidf_array, index=[f\"Doc {i+1}\" for i in range(len(documents))], columns=feature_names)\n",
        "\n",
        "# Enhanced Visualization\n",
        "plt.figure(figsize=(14, 8))\n",
        "sns.heatmap(df, annot=True, cmap=\"coolwarm\", fmt=\".2f\", linewidths=0.5, linecolor='gray', cbar_kws={'label': 'TF-IDF Score'})\n",
        "plt.xticks(rotation=45, ha='right')\n",
        "plt.yticks(rotation=0)\n",
        "plt.title(\"TF-IDF Matrix Heatmap\", fontsize=14)\n",
        "plt.xlabel(\"Words\", fontsize=12)\n",
        "plt.ylabel(\"Documents\", fontsize=12)\n",
        "plt.tight_layout()\n",
        "plt.show()"
      ],
      "metadata": {
        "colab": {
          "base_uri": "https://localhost:8080/",
          "height": 807
        },
        "id": "sGbJqqTnfojm",
        "outputId": "ebe81402-5a15-4ba4-e9b5-b251ec558d6f"
      },
      "execution_count": null,
      "outputs": [
        {
          "output_type": "display_data",
          "data": {
            "text/plain": [
              "<Figure size 1400x800 with 2 Axes>"
            ],
            "image/png": "[encoded data removed]"
          },
          "metadata": {}
        }
      ]
    }
  ]
}